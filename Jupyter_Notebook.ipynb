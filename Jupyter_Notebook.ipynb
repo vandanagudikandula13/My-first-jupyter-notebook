{
 "cells": [
  {
   "cell_type": "markdown",
   "metadata": {},
   "source": [
    "<center>\n",
    "    <img src=\"https://cf-courses-data.s3.us.cloud-object-storage.appdomain.cloud/IBMDeveloperSkillsNetwork-DS0105EN-SkillsNetwork/labs/Module2/images/SN_web_lightmode.png\" width=\"300\" alt=\"cognitiveclass.ai logo\">\n",
    "</center>\n"
   ]
  },
  {
   "cell_type": "markdown",
   "metadata": {},
   "source": [
    "#### Add your code below following the instructions given in the course\n"
   ]
  },
  {
   "cell_type": "markdown",
   "metadata": {},
   "source": [
    "<h1>My Jupyter Notebook on IBM Watson Studio</h1>"
   ]
  },
  {
   "cell_type": "markdown",
   "metadata": {},
   "source": [
    "**Vandana Gudikandula**<br>\n",
    "My desired occupation is to become a Machine Learning Engineer"
   ]
  },
  {
   "cell_type": "markdown",
   "metadata": {},
   "source": [
    "*Since my childhood I like Math, solving problems. This habit and curiosity led my thoughts towards the machine learning and make me to learn data science. I want to become a machine learning engineer and want to work upon different algorithms and develop models that are useful.*"
   ]
  },
  {
   "cell_type": "markdown",
   "metadata": {},
   "source": [
    "<h3>The below code will show the string concatenation</h3>"
   ]
  },
  {
   "cell_type": "code",
   "execution_count": 1,
   "metadata": {},
   "outputs": [
    {
     "name": "stdout",
     "output_type": "stream",
     "text": [
      "Python Programming\n"
     ]
    }
   ],
   "source": [
    "string1 = \"Python\"\n",
    "string2 = \"Programming\"\n",
    "string3 = string1 + \" \" + string2\n",
    "print(string3)"
   ]
  },
  {
   "cell_type": "markdown",
   "metadata": {},
   "source": [
    "<hr> <br>\n",
    "Bulleted List\n",
    "<ul>\n",
    "    <li>Apple</li>\n",
    "    <li>Banana</li>\n",
    "    <li>Mango</li>\n",
    "</ul> <br>\n",
    "Numbered List\n",
    "<ol>\n",
    "    <li>Apple</li>\n",
    "    <li>Banana</li>\n",
    "    <li>Mango</li>\n",
    "</ol> <br>\n",
    "<a href=\"https://en.wikipedia.org/wiki/Python_(programming_language)\">Python wikipedia</a>"
   ]
  }
 ],
 "metadata": {
  "kernelspec": {
   "display_name": "Python",
   "language": "python",
   "name": "conda-env-python-py"
  },
  "language_info": {
   "codemirror_mode": {
    "name": "ipython",
    "version": 3
   },
   "file_extension": ".py",
   "mimetype": "text/x-python",
   "name": "python",
   "nbconvert_exporter": "python",
   "pygments_lexer": "ipython3",
   "version": "3.7.12"
  }
 },
 "nbformat": 4,
 "nbformat_minor": 4
}
